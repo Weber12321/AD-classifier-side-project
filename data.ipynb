{
 "cells": [
  {
   "cell_type": "code",
   "execution_count": 1,
   "source": [
    "import numpy as np\r\n",
    "import pandas as pd"
   ],
   "outputs": [],
   "metadata": {}
  },
  {
   "cell_type": "code",
   "execution_count": 4,
   "source": [
    "pos = pd.read_pickle('scrap_file/pos_08052021142710_4.pkl')\r\n",
    "pos[['text']]"
   ],
   "outputs": [
    {
     "output_type": "execute_result",
     "data": {
      "text/plain": [
       "                                                text\n",
       "2  １２星座只要避免這一點，保證讓大家都想追你太聰明善辯<BR>雙子座、巨蟹座、天蠍座、水瓶座人...\n",
       "6       都擦哪家的屁屁膏?有推薦的嗎?我是用貝恩的<BR>覺得還滿好用，厚厚塗一層隔天就會消紅了\n",
       "7            請問現在有哪些品牌的手機有自己的電腦管理軟體?想從電腦去控制手機.....@@\n",
       "9  亞太萊爾富11元方案不專業心得看到亞太電信11元方案的當下就填了問券<BR>不過因為是假日填..."
      ],
      "text/html": [
       "<div>\n",
       "<style scoped>\n",
       "    .dataframe tbody tr th:only-of-type {\n",
       "        vertical-align: middle;\n",
       "    }\n",
       "\n",
       "    .dataframe tbody tr th {\n",
       "        vertical-align: top;\n",
       "    }\n",
       "\n",
       "    .dataframe thead th {\n",
       "        text-align: right;\n",
       "    }\n",
       "</style>\n",
       "<table border=\"1\" class=\"dataframe\">\n",
       "  <thead>\n",
       "    <tr style=\"text-align: right;\">\n",
       "      <th></th>\n",
       "      <th>text</th>\n",
       "    </tr>\n",
       "  </thead>\n",
       "  <tbody>\n",
       "    <tr>\n",
       "      <th>2</th>\n",
       "      <td>１２星座只要避免這一點，保證讓大家都想追你太聰明善辯&lt;BR&gt;雙子座、巨蟹座、天蠍座、水瓶座人...</td>\n",
       "    </tr>\n",
       "    <tr>\n",
       "      <th>6</th>\n",
       "      <td>都擦哪家的屁屁膏?有推薦的嗎?我是用貝恩的&lt;BR&gt;覺得還滿好用，厚厚塗一層隔天就會消紅了</td>\n",
       "    </tr>\n",
       "    <tr>\n",
       "      <th>7</th>\n",
       "      <td>請問現在有哪些品牌的手機有自己的電腦管理軟體?想從電腦去控制手機.....@@</td>\n",
       "    </tr>\n",
       "    <tr>\n",
       "      <th>9</th>\n",
       "      <td>亞太萊爾富11元方案不專業心得看到亞太電信11元方案的當下就填了問券&lt;BR&gt;不過因為是假日填...</td>\n",
       "    </tr>\n",
       "  </tbody>\n",
       "</table>\n",
       "</div>"
      ]
     },
     "metadata": {},
     "execution_count": 4
    }
   ],
   "metadata": {}
  },
  {
   "cell_type": "code",
   "execution_count": null,
   "source": [],
   "outputs": [],
   "metadata": {}
  }
 ],
 "metadata": {
  "orig_nbformat": 4,
  "language_info": {
   "name": "python",
   "version": "3.8.10",
   "mimetype": "text/x-python",
   "codemirror_mode": {
    "name": "ipython",
    "version": 3
   },
   "pygments_lexer": "ipython3",
   "nbconvert_exporter": "python",
   "file_extension": ".py"
  },
  "kernelspec": {
   "name": "python3",
   "display_name": "Python 3.8.10 64-bit ('venv': venv)"
  },
  "interpreter": {
   "hash": "fb828bca300bf75e75fcd4072f4878740717585c2aa511790ef5ee15dd428c20"
  }
 },
 "nbformat": 4,
 "nbformat_minor": 2
}